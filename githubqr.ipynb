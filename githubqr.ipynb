{
 "cells": [
  {
   "cell_type": "code",
   "execution_count": null,
   "id": "8dd6374b-bcc8-4042-b940-f27103716c78",
   "metadata": {},
   "outputs": [],
   "source": []
  },
  {
   "cell_type": "code",
   "execution_count": 1,
   "id": "d19fbb17-cdbc-443b-92ba-a77f5dc2e733",
   "metadata": {},
   "outputs": [],
   "source": [
    "from PIL import Image"
   ]
  },
  {
   "cell_type": "code",
   "execution_count": 2,
   "id": "fd4f340f-647f-4001-9e25-63e22885bdc3",
   "metadata": {},
   "outputs": [],
   "source": [
    "import qrcode"
   ]
  },
  {
   "cell_type": "code",
   "execution_count": 3,
   "id": "25fb2ffe-2e64-4ab3-85d4-cd4fb9f50bbd",
   "metadata": {},
   "outputs": [],
   "source": [
    "img=qrcode.QRCode(version=1,error_correction=qrcode.constants.ERROR_CORRECT_H,box_size=10,border=5)"
   ]
  },
  {
   "cell_type": "code",
   "execution_count": 4,
   "id": "305e5a6c-96e1-4b3c-8f8e-b5d819e731e4",
   "metadata": {},
   "outputs": [],
   "source": [
    "img.add_data(\"https://github.com/nikhilbudhathoki\")"
   ]
  },
  {
   "cell_type": "code",
   "execution_count": 5,
   "id": "76ca0aaf-c25c-47df-94d6-663b881aa086",
   "metadata": {},
   "outputs": [],
   "source": [
    "img.make(fit=1)"
   ]
  },
  {
   "cell_type": "code",
   "execution_count": 6,
   "id": "f1f86b17-6317-44c4-9c86-3a297a784496",
   "metadata": {},
   "outputs": [],
   "source": [
    "qr=img.make_image(fill_color='green',back_color='orange')"
   ]
  },
  {
   "cell_type": "code",
   "execution_count": 7,
   "id": "650ce363-642d-4efd-afe9-728f12472eb5",
   "metadata": {},
   "outputs": [],
   "source": [
    "qr.save(\"Mygithub_qr.png\")"
   ]
  },
  {
   "cell_type": "code",
   "execution_count": null,
   "id": "b900df90-0b64-4b92-bd36-4b0ce11b9891",
   "metadata": {},
   "outputs": [],
   "source": []
  },
  {
   "cell_type": "code",
   "execution_count": null,
   "id": "cffd8c6a-ac77-4ac8-9108-faefa944e383",
   "metadata": {},
   "outputs": [],
   "source": []
  }
 ],
 "metadata": {
  "kernelspec": {
   "display_name": "Python 3 (ipykernel)",
   "language": "python",
   "name": "python3"
  },
  "language_info": {
   "codemirror_mode": {
    "name": "ipython",
    "version": 3
   },
   "file_extension": ".py",
   "mimetype": "text/x-python",
   "name": "python",
   "nbconvert_exporter": "python",
   "pygments_lexer": "ipython3",
   "version": "3.11.7"
  }
 },
 "nbformat": 4,
 "nbformat_minor": 5
}
